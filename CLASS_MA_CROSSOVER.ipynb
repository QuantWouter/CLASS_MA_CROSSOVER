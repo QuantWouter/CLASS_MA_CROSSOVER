{
  "nbformat": 4,
  "nbformat_minor": 0,
  "metadata": {
    "colab": {
      "provenance": [],
      "authorship_tag": "ABX9TyPhXY0YzYsPo8Z0CuzRdoSm",
      "include_colab_link": true
    },
    "kernelspec": {
      "name": "python3",
      "display_name": "Python 3"
    },
    "language_info": {
      "name": "python"
    }
  },
  "cells": [
    {
      "cell_type": "markdown",
      "metadata": {
        "id": "view-in-github",
        "colab_type": "text"
      },
      "source": [
        "<a href=\"https://colab.research.google.com/github/QuantWouter/CLASS_MA_CROSSOVER/blob/main/CLASS_MA_CROSSOVER.ipynb\" target=\"_parent\"><img src=\"https://colab.research.google.com/assets/colab-badge.svg\" alt=\"Open In Colab\"/></a>"
      ]
    },
    {
      "cell_type": "markdown",
      "source": [
        "# CLASS MA_CROSSOVER"
      ],
      "metadata": {
        "id": "xxzuhXySMCSN"
      }
    },
    {
      "cell_type": "code",
      "source": [
        "class MaCrossover:\n",
        "\n",
        "  # Instantiate Objects\n",
        "  def __init__(self,ticker, start, end, ma):\n",
        "    self.ticker = ticker\n",
        "    self.start = start\n",
        "    self.end = end\n",
        "    self.ma = ma\n",
        "\n",
        "\n",
        "    # call methods which will follow below\n",
        "    self.macrossover()\n",
        "\n",
        "\n",
        "  # Actual Method all in one\n",
        "  def macrossover(self):\n",
        "\n",
        "    self.df = yf.download(self.ticker, self.start, self.end)\n",
        "\n",
        "    self.df['pct_change'] = self.df['Close'].pct_change()\n",
        "\n",
        "    self.df['ma'] = self.df['Close'].rolling(self.ma).mean()\n",
        "\n",
        "    self.df['signal'] = np.where(self.df['ma']>self.df['Close'], 1, 0)\n",
        "\n",
        "    self.df['signal'] = self.df['signal'].shift(1)\n",
        "\n",
        "    self.df['result'] = self.df['pct_change'] * self.df['signal']\n",
        "\n",
        "    self.df[['result', 'pct_change']].add(1).cumprod().plot(title=(f\"result versus benchmark {self.ticker}\"))\n",
        "\n",
        "\n"
      ],
      "metadata": {
        "id": "_T93PUX7NGOQ"
      },
      "execution_count": 17,
      "outputs": []
    }
  ]
}